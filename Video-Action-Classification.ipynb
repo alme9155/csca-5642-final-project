{
 "cells": [
  {
   "cell_type": "markdown",
   "id": "70ab2bdc",
   "metadata": {
    "papermill": {
     "duration": 0.002402,
     "end_time": "2025-07-26T04:36:10.279780",
     "exception": false,
     "start_time": "2025-07-26T04:36:10.277378",
     "status": "completed"
    },
    "tags": []
   },
   "source": [
    "# CSCA-5642: Final Project #\n",
    "#### Develop an multi-class classifier to recognize action from video clips. ####\n",
    "    \n",
    "* Author: Alexander Meau  \n",
    "* Email: alme9155@colorado.edu  \n",
    "* GitHub: [https://github.com/alme9155/csca-5642-week4/tree/main](https://github.com/alme9155/csca-5642-week4/tree/main)  \n"
   ]
  },
  {
   "cell_type": "markdown",
   "id": "b041d537",
   "metadata": {
    "papermill": {
     "duration": 0.001352,
     "end_time": "2025-07-26T04:36:10.283139",
     "exception": false,
     "start_time": "2025-07-26T04:36:10.281787",
     "status": "completed"
    },
    "tags": []
   },
   "source": [
    "## I. Brief description of the problem and data ##\n",
    "\n",
    "This project aims to tackle Kaggle's Cancer Detection challenge to identify cancerous cell images from non-cancerous using Convolutional Neural Network (CNN). The challenge is to create an algorithm to identify metastatic cancer in small image patches taken from larget digital pathlogy scans. The data of this Kaggle competition is a slightly modified version of the PatchCamelyon (PCam) benchmark dataset. \n",
    "### Dataset: ####\n",
    "* The training dataset contains about 220,025 image patches already labeled 1 as cancerous, 0 as non-cancerous in \"train_labels.csv\".\n",
    "* A positive label indicates that the center 32x32px region of a patch contains at least one pixel of tumor tissue.\n",
    "* Tumor tissue in the outer region of the patch does not influence the label. \n",
    "\n",
    "### Data Size and Dimension ####\n",
    "* Training dataset: 220,025 tiff images\n",
    "* Test dataset: 57,458 tiff images (~26% of training size)\n",
    "* Each image patch is 96x96 pixel of RGB color images in tiff formats.\n",
    "* Label CSV contains 2 columns: id, label (1 as cancerous, 0 as non-cancerous)\n",
    "\n",
    "### Competition Rules ###\n",
    "* Expected submission CSV files in the same format as \"train_labels.csv\" with two columns \"id, label\". (id: unique id from test set, label: 0, or 1)"
   ]
  },
  {
   "cell_type": "code",
   "execution_count": 1,
   "id": "91c38e24",
   "metadata": {
    "execution": {
     "iopub.execute_input": "2025-07-26T04:36:10.288349Z",
     "iopub.status.busy": "2025-07-26T04:36:10.287900Z",
     "iopub.status.idle": "2025-07-26T04:36:21.082652Z",
     "shell.execute_reply": "2025-07-26T04:36:21.081418Z"
    },
    "papermill": {
     "duration": 10.799716,
     "end_time": "2025-07-26T04:36:21.084710",
     "exception": false,
     "start_time": "2025-07-26T04:36:10.284994",
     "status": "completed"
    },
    "tags": []
   },
   "outputs": [
    {
     "name": "stdout",
     "output_type": "stream",
     "text": [
      "[/kaggle/input/ucf50-latest-version/UCF50/HorseRace]:127 .avi files.\n",
      "[/kaggle/input/ucf50-latest-version/UCF50/VolleyballSpiking]:116 .avi files.\n",
      "[/kaggle/input/ucf50-latest-version/UCF50/Biking]:145 .avi files.\n",
      "[/kaggle/input/ucf50-latest-version/UCF50/TaiChi]:100 .avi files.\n",
      "[/kaggle/input/ucf50-latest-version/UCF50/Punch]:160 .avi files.\n",
      "[/kaggle/input/ucf50-latest-version/UCF50/BreastStroke]:101 .avi files.\n",
      "[/kaggle/input/ucf50-latest-version/UCF50/Billiards]:150 .avi files.\n",
      "[/kaggle/input/ucf50-latest-version/UCF50/PoleVault]:160 .avi files.\n",
      "[/kaggle/input/ucf50-latest-version/UCF50/ThrowDiscus]:131 .avi files.\n",
      "[/kaggle/input/ucf50-latest-version/UCF50/BaseballPitch]:138 .avi files.\n",
      "[/kaggle/input/ucf50-latest-version/UCF50/HorseRiding]:197 .avi files.\n",
      "[/kaggle/input/ucf50-latest-version/UCF50/Mixing]:141 .avi files.\n",
      "[/kaggle/input/ucf50-latest-version/UCF50/HighJump]:123 .avi files.\n",
      "[/kaggle/input/ucf50-latest-version/UCF50/Skijet]:100 .avi files.\n",
      "[/kaggle/input/ucf50-latest-version/UCF50/SkateBoarding]:120 .avi files.\n",
      "[/kaggle/input/ucf50-latest-version/UCF50/MilitaryParade]:127 .avi files.\n",
      "[/kaggle/input/ucf50-latest-version/UCF50/Fencing]:111 .avi files.\n",
      "[/kaggle/input/ucf50-latest-version/UCF50/JugglingBalls]:122 .avi files.\n",
      "[/kaggle/input/ucf50-latest-version/UCF50/Swing]:137 .avi files.\n",
      "[/kaggle/input/ucf50-latest-version/UCF50/RockClimbingIndoor]:148 .avi files.\n",
      "[/kaggle/input/ucf50-latest-version/UCF50/SalsaSpin]:133 .avi files.\n",
      "[/kaggle/input/ucf50-latest-version/UCF50/PlayingTabla]:124 .avi files.\n",
      "[/kaggle/input/ucf50-latest-version/UCF50/Rowing]:137 .avi files.\n",
      "[/kaggle/input/ucf50-latest-version/UCF50/BenchPress]:160 .avi files.\n",
      "[/kaggle/input/ucf50-latest-version/UCF50/PushUps]:106 .avi files.\n",
      "[/kaggle/input/ucf50-latest-version/UCF50/Nunchucks]:150 .avi files.\n",
      "[/kaggle/input/ucf50-latest-version/UCF50/PlayingViolin]:100 .avi files.\n",
      "[/kaggle/input/ucf50-latest-version/UCF50/PullUps]:120 .avi files.\n",
      "[/kaggle/input/ucf50-latest-version/UCF50/PlayingPiano]:105 .avi files.\n",
      "[/kaggle/input/ucf50-latest-version/UCF50/HulaHoop]:125 .avi files.\n",
      "[/kaggle/input/ucf50-latest-version/UCF50/RopeClimbing]:130 .avi files.\n",
      "[/kaggle/input/ucf50-latest-version/UCF50/YoYo]:128 .avi files.\n",
      "[/kaggle/input/ucf50-latest-version/UCF50/TrampolineJumping]:119 .avi files.\n",
      "[/kaggle/input/ucf50-latest-version/UCF50/JumpingJack]:123 .avi files.\n",
      "[/kaggle/input/ucf50-latest-version/UCF50/Drumming]:161 .avi files.\n",
      "[/kaggle/input/ucf50-latest-version/UCF50/GolfSwing]:142 .avi files.\n",
      "[/kaggle/input/ucf50-latest-version/UCF50/PlayingGuitar]:160 .avi files.\n",
      "[/kaggle/input/ucf50-latest-version/UCF50/PizzaTossing]:114 .avi files.\n",
      "[/kaggle/input/ucf50-latest-version/UCF50/Lunges]:141 .avi files.\n",
      "[/kaggle/input/ucf50-latest-version/UCF50/TennisSwing]:167 .avi files.\n",
      "[/kaggle/input/ucf50-latest-version/UCF50/WalkingWithDog]:123 .avi files.\n",
      "[/kaggle/input/ucf50-latest-version/UCF50/Kayaking]:157 .avi files.\n",
      "[/kaggle/input/ucf50-latest-version/UCF50/PommelHorse]:123 .avi files.\n",
      "[/kaggle/input/ucf50-latest-version/UCF50/Basketball]:137 .avi files.\n",
      "[/kaggle/input/ucf50-latest-version/UCF50/JumpRope]:148 .avi files.\n",
      "[/kaggle/input/ucf50-latest-version/UCF50/CleanAndJerk]:112 .avi files.\n",
      "[/kaggle/input/ucf50-latest-version/UCF50/Skiing]:144 .avi files.\n",
      "[/kaggle/input/ucf50-latest-version/UCF50/Diving]:153 .avi files.\n",
      "[/kaggle/input/ucf50-latest-version/UCF50/SoccerJuggling]:156 .avi files.\n",
      "[/kaggle/input/ucf50-latest-version/UCF50/JavelinThrow]:117 .avi files.\n",
      "\n",
      "Total .avi file count = 6669\n"
     ]
    }
   ],
   "source": [
    "# This Python 3 environment comes with many helpful analytics libraries installed\n",
    "# It is defined by the kaggle/python Docker image: https://github.com/kaggle/docker-python\n",
    "# For example, here's several helpful packages to load\n",
    "\n",
    "import numpy as np # linear algebra\n",
    "import pandas as pd # data processing, CSV file I/O (e.g. pd.read_csv)\n",
    "\n",
    "# Input data files are available in the read-only \"../input/\" directory\n",
    "# For example, running this (by clicking run or pressing Shift+Enter) will list all files under the input directory\n",
    "\n",
    "import os\n",
    "avi_files = []\n",
    "total_avi_file_count =0\n",
    "\n",
    "for dirname, _, filenames in os.walk('/kaggle/input'):\n",
    "    #print(f\"os path: [{dirname}]\")\n",
    "    avi_file_count =0\n",
    "    for filename in filenames:\n",
    "        if filename.endswith('.avi'):\n",
    "            avi_file_count +=1\n",
    "            # if avi_file_count < 3:\n",
    "            #     print(\"\\t\"+os.path.join(dirname, filename))\n",
    "            # elif avi_file_count == 3:\n",
    "            #     print(\"\\t...\")\n",
    "        else:\n",
    "            print(os.path.join(dirname, filename))  \n",
    "    if avi_file_count > 0:\n",
    "        print(f\"[{dirname}]:{avi_file_count} .avi files.\")\n",
    "        total_avi_file_count +=avi_file_count\n",
    "        avi_file_count =0\n",
    "print(f\"\\nTotal .avi file count = {total_avi_file_count}\")\n",
    "        \n",
    "# You can write up to 20GB to the current directory (/kaggle/working/) that gets preserved as output when you create a version using \"Save & Run All\" \n",
    "# You can also write temporary files to /kaggle/temp/, but they won't be saved outside of the current session"
   ]
  },
  {
   "cell_type": "markdown",
   "id": "a9256595",
   "metadata": {
    "papermill": {
     "duration": 0.003151,
     "end_time": "2025-07-26T04:36:21.091967",
     "exception": false,
     "start_time": "2025-07-26T04:36:21.088816",
     "status": "completed"
    },
    "tags": []
   },
   "source": []
  }
 ],
 "metadata": {
  "kaggle": {
   "accelerator": "none",
   "dataSources": [
    {
     "datasetId": 6714880,
     "sourceId": 10815698,
     "sourceType": "datasetVersion"
    }
   ],
   "isGpuEnabled": false,
   "isInternetEnabled": true,
   "language": "python",
   "sourceType": "notebook"
  },
  "kernelspec": {
   "display_name": "Python 3",
   "language": "python",
   "name": "python3"
  },
  "language_info": {
   "codemirror_mode": {
    "name": "ipython",
    "version": 3
   },
   "file_extension": ".py",
   "mimetype": "text/x-python",
   "name": "python",
   "nbconvert_exporter": "python",
   "pygments_lexer": "ipython3",
   "version": "3.11.13"
  },
  "papermill": {
   "default_parameters": {},
   "duration": 17.284931,
   "end_time": "2025-07-26T04:36:21.918580",
   "environment_variables": {},
   "exception": null,
   "input_path": "__notebook__.ipynb",
   "output_path": "__notebook__.ipynb",
   "parameters": {},
   "start_time": "2025-07-26T04:36:04.633649",
   "version": "2.6.0"
  }
 },
 "nbformat": 4,
 "nbformat_minor": 5
}
